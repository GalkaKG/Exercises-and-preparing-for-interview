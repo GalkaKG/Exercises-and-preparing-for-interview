### SQL Functions Tutorial

# Create Sample Tables and Examples in Jupyter Notebook

```sql
# 1. Create Sample Tables
CREATE TABLE city (
    id INT,
    name VARCHAR(50),
    population INT
);
INSERT INTO city VALUES (1, 'Tokyo', 37435191), (2, 'Delhi', 29399141), (3, 'Shanghai', 26317104);

CREATE TABLE station (
    id INT,
    city VARCHAR(50),
    capacity INT
);
INSERT INTO station VALUES (1, 'Tokyo', 500), (2, 'Delhi', 300), (4, 'Delhi', 300);

CREATE TABLE employees (
    id INT,
    name VARCHAR(50),
    salary DECIMAL(10, 2)
);
INSERT INTO employees VALUES (1, 'Alice', 50000), (2, 'Bob', 60000), (3, 'Charlie', NULL);

CREATE TABLE products (
    id INT,
    name VARCHAR(50),
    price DECIMAL(10, 2)
);
INSERT INTO products VALUES (1, 'Laptop', 800.99), (2, 'Phone', 400.50), (3, 'Headphones', 50.00);
