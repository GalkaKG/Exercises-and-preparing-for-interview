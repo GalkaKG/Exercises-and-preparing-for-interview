# SQL Functions in Markdown Format

# Creating Sample Tables and Data

# Aggregate Functions
# -------------------
# | **Function**    | **Description**                                              | **Example**                  |
# |-----------------|------------------------------------------------------------|------------------------------|
# | **`COUNT(x)`**  | Counts rows where `x` is not NULL.                          | `COUNT(*)` → Total rows      |
# | **`SUM(x)`**    | Returns the sum of the column `x`.                          | `SUM(salary)` → Total salary |
# | **`AVG(x)`**    | Returns the average of the column `x`.                      | `AVG(age)` → Average age     |
# | **`MIN(x)`**    | Finds the smallest value in the column `x`.                 | `MIN(price)` → Smallest price|
# | **`MAX(x)`**    | Finds the largest value in the column `x`.                  | `MAX(price)` → Largest price |

# String Manipulation Functions
# -----------------------------
# | **Function**           | **Description**                                             | **Example**                                 |
# |------------------------|-----------------------------------------------------------|---------------------------------------------|
# | **`CONCAT(x, y)`**     | Combines two strings.                                      | `CONCAT('Hello', 'World')` → `HelloWorld`   |
# | **`LENGTH(x)`**        | Returns the length of the string.                          | `LENGTH('Hello')` → 5                       |
# | **`UPPER(x)`**         | Converts the string to uppercase.                          | `UPPER('hello')` → `HELLO`                  |
# | **`LOWER(x)`**         | Converts the string to lowercase.                          | `LOWER('HELLO')` → `hello`                  |
# | **`SUBSTRING(x,a,b)`** | Extracts part of the string from position `a` of length `b`| `SUBSTRING('SQL Tutorial', 5, 8)` → Tutorial|
# | **`TRIM(x)`**          | Removes leading/trailing whitespaces.                      | `TRIM(' hello')`                    
