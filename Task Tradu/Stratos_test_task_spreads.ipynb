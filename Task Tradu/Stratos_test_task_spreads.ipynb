{
 "cells": [
  {
   "cell_type": "code",
   "execution_count": 1,
   "id": "db1a567f-1735-42a0-b0c5-c1c723d09b5f",
   "metadata": {},
   "outputs": [],
   "source": [
    "%matplotlib inline"
   ]
  },
  {
   "cell_type": "code",
   "execution_count": 2,
   "id": "17d567cf-fb8e-4a73-b76a-9f711d83cf21",
   "metadata": {},
   "outputs": [],
   "source": [
    "import numpy as np\n",
    "import pandas as pd\n",
    "import matplotlib.pyplot as plt"
   ]
  },
  {
   "cell_type": "markdown",
   "id": "21ba6778-ae3d-4c26-81cd-1552a41a86bb",
   "metadata": {},
   "source": [
    "# Stratos Test Task: Analysis of Spreads Data\n",
    "\n",
    "Let's load the dataset:"
   ]
  },
  {
   "cell_type": "code",
   "execution_count": 3,
   "id": "a064610a-abce-4885-a36a-abacc1991d8a",
   "metadata": {},
   "outputs": [],
   "source": [
    "spread_data = pd.read_csv(\"Stratos_test_task_spreads.csv\")"
   ]
  },
  {
   "cell_type": "markdown",
   "id": "cd1eea7f-172c-4a2b-8348-e4692afee319",
   "metadata": {},
   "source": [
    "To understand the structure of the dataset, we will display its first few rows:"
   ]
  },
  {
   "cell_type": "code",
   "execution_count": 4,
   "id": "a6538b61-456c-43a8-8fb3-ad587539c452",
   "metadata": {},
   "outputs": [
    {
     "data": {
      "text/html": [
       "<div>\n",
       "<style scoped>\n",
       "    .dataframe tbody tr th:only-of-type {\n",
       "        vertical-align: middle;\n",
       "    }\n",
       "\n",
       "    .dataframe tbody tr th {\n",
       "        vertical-align: top;\n",
       "    }\n",
       "\n",
       "    .dataframe thead th {\n",
       "        text-align: right;\n",
       "    }\n",
       "</style>\n",
       "<table border=\"1\" class=\"dataframe\">\n",
       "  <thead>\n",
       "    <tr style=\"text-align: right;\">\n",
       "      <th></th>\n",
       "      <th>quote_hour</th>\n",
       "      <th>symbol</th>\n",
       "      <th>avg_spread</th>\n",
       "    </tr>\n",
       "  </thead>\n",
       "  <tbody>\n",
       "    <tr>\n",
       "      <th>0</th>\n",
       "      <td>2/12/2024 0:00</td>\n",
       "      <td>US30</td>\n",
       "      <td>4.8</td>\n",
       "    </tr>\n",
       "    <tr>\n",
       "      <th>1</th>\n",
       "      <td>2/12/2024 1:00</td>\n",
       "      <td>US30</td>\n",
       "      <td>4.8</td>\n",
       "    </tr>\n",
       "    <tr>\n",
       "      <th>2</th>\n",
       "      <td>2/12/2024 2:00</td>\n",
       "      <td>US30</td>\n",
       "      <td>4.8</td>\n",
       "    </tr>\n",
       "    <tr>\n",
       "      <th>3</th>\n",
       "      <td>2/12/2024 3:00</td>\n",
       "      <td>US30</td>\n",
       "      <td>4.8</td>\n",
       "    </tr>\n",
       "    <tr>\n",
       "      <th>4</th>\n",
       "      <td>2/12/2024 4:00</td>\n",
       "      <td>US30</td>\n",
       "      <td>4.8</td>\n",
       "    </tr>\n",
       "  </tbody>\n",
       "</table>\n",
       "</div>"
      ],
      "text/plain": [
       "       quote_hour symbol  avg_spread\n",
       "0  2/12/2024 0:00   US30         4.8\n",
       "1  2/12/2024 1:00   US30         4.8\n",
       "2  2/12/2024 2:00   US30         4.8\n",
       "3  2/12/2024 3:00   US30         4.8\n",
       "4  2/12/2024 4:00   US30         4.8"
      ]
     },
     "execution_count": 4,
     "metadata": {},
     "output_type": "execute_result"
    }
   ],
   "source": [
    "spread_data.head()"
   ]
  },
  {
   "cell_type": "code",
   "execution_count": 5,
   "id": "ac20125e-52d1-4073-8b49-39a84a445ab1",
   "metadata": {},
   "outputs": [
    {
     "data": {
      "text/plain": [
       "(480, 3)"
      ]
     },
     "execution_count": 5,
     "metadata": {},
     "output_type": "execute_result"
    }
   ],
   "source": [
    "spread_data.shape"
   ]
  },
  {
   "cell_type": "markdown",
   "id": "3bc72316-c701-48af-ba8f-d13c3e1799cf",
   "metadata": {},
   "source": [
    "As we can see, the dataset contains **480 rows** and **3 columns**.\n",
    "\n",
    "To ensure data quality, let's check for missing values in the dataset:"
   ]
  },
  {
   "cell_type": "code",
   "execution_count": 6,
   "id": "44bbec59-757f-43cc-ace2-5ebf62c464dd",
   "metadata": {},
   "outputs": [
    {
     "data": {
      "text/plain": [
       "quote_hour    0\n",
       "symbol        0\n",
       "avg_spread    2\n",
       "dtype: int64"
      ]
     },
     "execution_count": 6,
     "metadata": {},
     "output_type": "execute_result"
    }
   ],
   "source": [
    "spread_data.isnull().sum()"
   ]
  },
  {
   "cell_type": "markdown",
   "id": "a0211cef-e239-401b-9c78-7db528fa91db",
   "metadata": {},
   "source": [
    "The `quote_hour` and `symbol` columns have no missing values. <br/>\n",
    "The `avg_spread` column has 2 missing values, which need to be addressed to ensure the integrity of our analysis.\n",
    "\n",
    "Here are the rows with missing values:"
   ]
  },
  {
   "cell_type": "code",
   "execution_count": 7,
   "id": "9b0db095-52e8-464b-a60e-f2e9200e398b",
   "metadata": {},
   "outputs": [
    {
     "data": {
      "text/html": [
       "<div>\n",
       "<style scoped>\n",
       "    .dataframe tbody tr th:only-of-type {\n",
       "        vertical-align: middle;\n",
       "    }\n",
       "\n",
       "    .dataframe tbody tr th {\n",
       "        vertical-align: top;\n",
       "    }\n",
       "\n",
       "    .dataframe thead th {\n",
       "        text-align: right;\n",
       "    }\n",
       "</style>\n",
       "<table border=\"1\" class=\"dataframe\">\n",
       "  <thead>\n",
       "    <tr style=\"text-align: right;\">\n",
       "      <th></th>\n",
       "      <th>quote_hour</th>\n",
       "      <th>symbol</th>\n",
       "      <th>avg_spread</th>\n",
       "    </tr>\n",
       "  </thead>\n",
       "  <tbody>\n",
       "    <tr>\n",
       "      <th>450</th>\n",
       "      <td>2/22/2024 18:00</td>\n",
       "      <td>USD/JPY</td>\n",
       "      <td>NaN</td>\n",
       "    </tr>\n",
       "    <tr>\n",
       "      <th>462</th>\n",
       "      <td>2/23/2024 6:00</td>\n",
       "      <td>USD/JPY</td>\n",
       "      <td>NaN</td>\n",
       "    </tr>\n",
       "  </tbody>\n",
       "</table>\n",
       "</div>"
      ],
      "text/plain": [
       "          quote_hour   symbol  avg_spread\n",
       "450  2/22/2024 18:00  USD/JPY         NaN\n",
       "462   2/23/2024 6:00  USD/JPY         NaN"
      ]
     },
     "execution_count": 7,
     "metadata": {},
     "output_type": "execute_result"
    }
   ],
   "source": [
    "spread_data[spread_data['avg_spread'].isna()]"
   ]
  },
  {
   "cell_type": "markdown",
   "id": "c69aa145-87b7-4cf0-b671-7ab50be7e5fe",
   "metadata": {},
   "source": [
    "To better understand the context, let's examine the rows immediately surrounding the missing values:"
   ]
  },
  {
   "cell_type": "code",
   "execution_count": 8,
   "id": "ce65eea0-4628-409f-a8fc-a34edaeb5152",
   "metadata": {},
   "outputs": [
    {
     "data": {
      "text/html": [
       "<div>\n",
       "<style scoped>\n",
       "    .dataframe tbody tr th:only-of-type {\n",
       "        vertical-align: middle;\n",
       "    }\n",
       "\n",
       "    .dataframe tbody tr th {\n",
       "        vertical-align: top;\n",
       "    }\n",
       "\n",
       "    .dataframe thead th {\n",
       "        text-align: right;\n",
       "    }\n",
       "</style>\n",
       "<table border=\"1\" class=\"dataframe\">\n",
       "  <thead>\n",
       "    <tr style=\"text-align: right;\">\n",
       "      <th></th>\n",
       "      <th>quote_hour</th>\n",
       "      <th>symbol</th>\n",
       "      <th>avg_spread</th>\n",
       "    </tr>\n",
       "  </thead>\n",
       "  <tbody>\n",
       "    <tr>\n",
       "      <th>448</th>\n",
       "      <td>2/22/2024 16:00</td>\n",
       "      <td>USD/JPY</td>\n",
       "      <td>1.120000</td>\n",
       "    </tr>\n",
       "    <tr>\n",
       "      <th>449</th>\n",
       "      <td>2/22/2024 17:00</td>\n",
       "      <td>USD/JPY</td>\n",
       "      <td>1.100000</td>\n",
       "    </tr>\n",
       "    <tr>\n",
       "      <th>450</th>\n",
       "      <td>2/22/2024 18:00</td>\n",
       "      <td>USD/JPY</td>\n",
       "      <td>NaN</td>\n",
       "    </tr>\n",
       "    <tr>\n",
       "      <th>451</th>\n",
       "      <td>2/22/2024 19:00</td>\n",
       "      <td>USD/JPY</td>\n",
       "      <td>1.092512</td>\n",
       "    </tr>\n",
       "    <tr>\n",
       "      <th>452</th>\n",
       "      <td>2/22/2024 20:00</td>\n",
       "      <td>USD/JPY</td>\n",
       "      <td>1.173964</td>\n",
       "    </tr>\n",
       "    <tr>\n",
       "      <th>453</th>\n",
       "      <td>2/22/2024 21:00</td>\n",
       "      <td>USD/JPY</td>\n",
       "      <td>1.378556</td>\n",
       "    </tr>\n",
       "    <tr>\n",
       "      <th>454</th>\n",
       "      <td>2/22/2024 22:00</td>\n",
       "      <td>USD/JPY</td>\n",
       "      <td>4.708799</td>\n",
       "    </tr>\n",
       "    <tr>\n",
       "      <th>455</th>\n",
       "      <td>2/22/2024 23:00</td>\n",
       "      <td>USD/JPY</td>\n",
       "      <td>1.424043</td>\n",
       "    </tr>\n",
       "    <tr>\n",
       "      <th>456</th>\n",
       "      <td>2/23/2024 0:00</td>\n",
       "      <td>USD/JPY</td>\n",
       "      <td>1.248135</td>\n",
       "    </tr>\n",
       "    <tr>\n",
       "      <th>457</th>\n",
       "      <td>2/23/2024 1:00</td>\n",
       "      <td>USD/JPY</td>\n",
       "      <td>1.158532</td>\n",
       "    </tr>\n",
       "    <tr>\n",
       "      <th>458</th>\n",
       "      <td>2/23/2024 2:00</td>\n",
       "      <td>USD/JPY</td>\n",
       "      <td>1.149986</td>\n",
       "    </tr>\n",
       "    <tr>\n",
       "      <th>459</th>\n",
       "      <td>2/23/2024 3:00</td>\n",
       "      <td>USD/JPY</td>\n",
       "      <td>1.191870</td>\n",
       "    </tr>\n",
       "    <tr>\n",
       "      <th>460</th>\n",
       "      <td>2/23/2024 4:00</td>\n",
       "      <td>USD/JPY</td>\n",
       "      <td>1.184038</td>\n",
       "    </tr>\n",
       "    <tr>\n",
       "      <th>461</th>\n",
       "      <td>2/23/2024 5:00</td>\n",
       "      <td>USD/JPY</td>\n",
       "      <td>1.159056</td>\n",
       "    </tr>\n",
       "    <tr>\n",
       "      <th>462</th>\n",
       "      <td>2/23/2024 6:00</td>\n",
       "      <td>USD/JPY</td>\n",
       "      <td>NaN</td>\n",
       "    </tr>\n",
       "    <tr>\n",
       "      <th>463</th>\n",
       "      <td>2/23/2024 7:00</td>\n",
       "      <td>USD/JPY</td>\n",
       "      <td>1.097145</td>\n",
       "    </tr>\n",
       "    <tr>\n",
       "      <th>464</th>\n",
       "      <td>2/23/2024 8:00</td>\n",
       "      <td>USD/JPY</td>\n",
       "      <td>1.143340</td>\n",
       "    </tr>\n",
       "  </tbody>\n",
       "</table>\n",
       "</div>"
      ],
      "text/plain": [
       "          quote_hour   symbol  avg_spread\n",
       "448  2/22/2024 16:00  USD/JPY    1.120000\n",
       "449  2/22/2024 17:00  USD/JPY    1.100000\n",
       "450  2/22/2024 18:00  USD/JPY         NaN\n",
       "451  2/22/2024 19:00  USD/JPY    1.092512\n",
       "452  2/22/2024 20:00  USD/JPY    1.173964\n",
       "453  2/22/2024 21:00  USD/JPY    1.378556\n",
       "454  2/22/2024 22:00  USD/JPY    4.708799\n",
       "455  2/22/2024 23:00  USD/JPY    1.424043\n",
       "456   2/23/2024 0:00  USD/JPY    1.248135\n",
       "457   2/23/2024 1:00  USD/JPY    1.158532\n",
       "458   2/23/2024 2:00  USD/JPY    1.149986\n",
       "459   2/23/2024 3:00  USD/JPY    1.191870\n",
       "460   2/23/2024 4:00  USD/JPY    1.184038\n",
       "461   2/23/2024 5:00  USD/JPY    1.159056\n",
       "462   2/23/2024 6:00  USD/JPY         NaN\n",
       "463   2/23/2024 7:00  USD/JPY    1.097145\n",
       "464   2/23/2024 8:00  USD/JPY    1.143340"
      ]
     },
     "execution_count": 8,
     "metadata": {},
     "output_type": "execute_result"
    }
   ],
   "source": [
    "spread_data.loc[448:464]"
   ]
  },
  {
   "cell_type": "markdown",
   "id": "bc2f47fe-c75f-45d1-b750-4fe20bb32dce",
   "metadata": {},
   "source": [
    "Since we are working with time series data, and the values appear to be sequential with only one significant difference over this period, ве will fill the missing values using __linear interpolation__. This method smooths the gaps between consecutive values and creates a smooth transition between them."
   ]
  },
  {
   "cell_type": "code",
   "execution_count": 9,
   "id": "952c2b77-7bed-48ff-97e0-2b5a0e912196",
   "metadata": {},
   "outputs": [],
   "source": [
    "spread_data['avg_spread'] = spread_data['avg_spread'].interpolate(method='linear')"
   ]
  },
  {
   "cell_type": "markdown",
   "id": "52a96af6-d488-42f9-ad96-43a720d76823",
   "metadata": {},
   "source": [
    "After interpolation, the results are:"
   ]
  },
  {
   "cell_type": "code",
   "execution_count": 10,
   "id": "935ee3d8-2f4e-4ea9-9974-ca616811865f",
   "metadata": {},
   "outputs": [
    {
     "data": {
      "text/html": [
       "<div>\n",
       "<style scoped>\n",
       "    .dataframe tbody tr th:only-of-type {\n",
       "        vertical-align: middle;\n",
       "    }\n",
       "\n",
       "    .dataframe tbody tr th {\n",
       "        vertical-align: top;\n",
       "    }\n",
       "\n",
       "    .dataframe thead th {\n",
       "        text-align: right;\n",
       "    }\n",
       "</style>\n",
       "<table border=\"1\" class=\"dataframe\">\n",
       "  <thead>\n",
       "    <tr style=\"text-align: right;\">\n",
       "      <th></th>\n",
       "      <th>quote_hour</th>\n",
       "      <th>symbol</th>\n",
       "      <th>avg_spread</th>\n",
       "    </tr>\n",
       "  </thead>\n",
       "  <tbody>\n",
       "    <tr>\n",
       "      <th>448</th>\n",
       "      <td>2/22/2024 16:00</td>\n",
       "      <td>USD/JPY</td>\n",
       "      <td>1.120000</td>\n",
       "    </tr>\n",
       "    <tr>\n",
       "      <th>449</th>\n",
       "      <td>2/22/2024 17:00</td>\n",
       "      <td>USD/JPY</td>\n",
       "      <td>1.100000</td>\n",
       "    </tr>\n",
       "    <tr>\n",
       "      <th>450</th>\n",
       "      <td>2/22/2024 18:00</td>\n",
       "      <td>USD/JPY</td>\n",
       "      <td>1.096256</td>\n",
       "    </tr>\n",
       "    <tr>\n",
       "      <th>451</th>\n",
       "      <td>2/22/2024 19:00</td>\n",
       "      <td>USD/JPY</td>\n",
       "      <td>1.092512</td>\n",
       "    </tr>\n",
       "    <tr>\n",
       "      <th>452</th>\n",
       "      <td>2/22/2024 20:00</td>\n",
       "      <td>USD/JPY</td>\n",
       "      <td>1.173964</td>\n",
       "    </tr>\n",
       "    <tr>\n",
       "      <th>453</th>\n",
       "      <td>2/22/2024 21:00</td>\n",
       "      <td>USD/JPY</td>\n",
       "      <td>1.378556</td>\n",
       "    </tr>\n",
       "    <tr>\n",
       "      <th>454</th>\n",
       "      <td>2/22/2024 22:00</td>\n",
       "      <td>USD/JPY</td>\n",
       "      <td>4.708799</td>\n",
       "    </tr>\n",
       "    <tr>\n",
       "      <th>455</th>\n",
       "      <td>2/22/2024 23:00</td>\n",
       "      <td>USD/JPY</td>\n",
       "      <td>1.424043</td>\n",
       "    </tr>\n",
       "    <tr>\n",
       "      <th>456</th>\n",
       "      <td>2/23/2024 0:00</td>\n",
       "      <td>USD/JPY</td>\n",
       "      <td>1.248135</td>\n",
       "    </tr>\n",
       "    <tr>\n",
       "      <th>457</th>\n",
       "      <td>2/23/2024 1:00</td>\n",
       "      <td>USD/JPY</td>\n",
       "      <td>1.158532</td>\n",
       "    </tr>\n",
       "    <tr>\n",
       "      <th>458</th>\n",
       "      <td>2/23/2024 2:00</td>\n",
       "      <td>USD/JPY</td>\n",
       "      <td>1.149986</td>\n",
       "    </tr>\n",
       "    <tr>\n",
       "      <th>459</th>\n",
       "      <td>2/23/2024 3:00</td>\n",
       "      <td>USD/JPY</td>\n",
       "      <td>1.191870</td>\n",
       "    </tr>\n",
       "    <tr>\n",
       "      <th>460</th>\n",
       "      <td>2/23/2024 4:00</td>\n",
       "      <td>USD/JPY</td>\n",
       "      <td>1.184038</td>\n",
       "    </tr>\n",
       "    <tr>\n",
       "      <th>461</th>\n",
       "      <td>2/23/2024 5:00</td>\n",
       "      <td>USD/JPY</td>\n",
       "      <td>1.159056</td>\n",
       "    </tr>\n",
       "    <tr>\n",
       "      <th>462</th>\n",
       "      <td>2/23/2024 6:00</td>\n",
       "      <td>USD/JPY</td>\n",
       "      <td>1.128101</td>\n",
       "    </tr>\n",
       "    <tr>\n",
       "      <th>463</th>\n",
       "      <td>2/23/2024 7:00</td>\n",
       "      <td>USD/JPY</td>\n",
       "      <td>1.097145</td>\n",
       "    </tr>\n",
       "    <tr>\n",
       "      <th>464</th>\n",
       "      <td>2/23/2024 8:00</td>\n",
       "      <td>USD/JPY</td>\n",
       "      <td>1.143340</td>\n",
       "    </tr>\n",
       "  </tbody>\n",
       "</table>\n",
       "</div>"
      ],
      "text/plain": [
       "          quote_hour   symbol  avg_spread\n",
       "448  2/22/2024 16:00  USD/JPY    1.120000\n",
       "449  2/22/2024 17:00  USD/JPY    1.100000\n",
       "450  2/22/2024 18:00  USD/JPY    1.096256\n",
       "451  2/22/2024 19:00  USD/JPY    1.092512\n",
       "452  2/22/2024 20:00  USD/JPY    1.173964\n",
       "453  2/22/2024 21:00  USD/JPY    1.378556\n",
       "454  2/22/2024 22:00  USD/JPY    4.708799\n",
       "455  2/22/2024 23:00  USD/JPY    1.424043\n",
       "456   2/23/2024 0:00  USD/JPY    1.248135\n",
       "457   2/23/2024 1:00  USD/JPY    1.158532\n",
       "458   2/23/2024 2:00  USD/JPY    1.149986\n",
       "459   2/23/2024 3:00  USD/JPY    1.191870\n",
       "460   2/23/2024 4:00  USD/JPY    1.184038\n",
       "461   2/23/2024 5:00  USD/JPY    1.159056\n",
       "462   2/23/2024 6:00  USD/JPY    1.128101\n",
       "463   2/23/2024 7:00  USD/JPY    1.097145\n",
       "464   2/23/2024 8:00  USD/JPY    1.143340"
      ]
     },
     "execution_count": 10,
     "metadata": {},
     "output_type": "execute_result"
    }
   ],
   "source": [
    "spread_data.loc[448:464]"
   ]
  },
  {
   "cell_type": "markdown",
   "id": "fad6e4a1-174a-45a2-8bda-08f037250301",
   "metadata": {},
   "source": [
    "Next, let's verify the data types of the columns to ensure they are in the correct format."
   ]
  },
  {
   "cell_type": "code",
   "execution_count": 11,
   "id": "4cb4c0ad-b2fc-48b3-b2f8-81f38107c264",
   "metadata": {},
   "outputs": [
    {
     "data": {
      "text/plain": [
       "quote_hour     object\n",
       "symbol         object\n",
       "avg_spread    float64\n",
       "dtype: object"
      ]
     },
     "execution_count": 11,
     "metadata": {},
     "output_type": "execute_result"
    }
   ],
   "source": [
    "spread_data.dtypes"
   ]
  },
  {
   "cell_type": "markdown",
   "id": "cd761080-a7a7-45f5-b290-d821a01a1966",
   "metadata": {},
   "source": [
    "`quote_hour` is stored as text and will be converted to a datetime format. <br/>\n",
    "`symbol` is stored as text, which is correct for categorical data. <br/>\n",
    "`avg_spread` is a float, which is appropriate for numerical calculations. <br/>"
   ]
  },
  {
   "cell_type": "markdown",
   "id": "1e33132b-d33c-434c-830b-80d142a24f32",
   "metadata": {},
   "source": [
    "To perform any time-based analysis (e.g., filtering, grouping, or extracting date/hour components), `quote_hour` must be converted to a proper datetime format:"
   ]
  },
  {
   "cell_type": "code",
   "execution_count": 12,
   "id": "a5f87aef-a157-467f-bee0-00c62c485310",
   "metadata": {},
   "outputs": [],
   "source": [
    "spread_data['quote_hour'] = pd.to_datetime(spread_data['quote_hour'])"
   ]
  },
  {
   "cell_type": "markdown",
   "id": "e6ddd153-d874-48c7-b39d-b29c65db1038",
   "metadata": {},
   "source": [
    "Extract the date and hour as a Separate Column:"
   ]
  },
  {
   "cell_type": "code",
   "execution_count": 13,
   "id": "d1a6c077-1e9a-49d4-bb4b-f19493245e9e",
   "metadata": {},
   "outputs": [],
   "source": [
    "spread_data['quote_date'] = spread_data['quote_hour'].dt.normalize()\n",
    "\n",
    "spread_data['quote_hour'] = spread_data['quote_hour'].dt.hour"
   ]
  },
  {
   "cell_type": "markdown",
   "id": "0d0f63b5-005f-43b9-af28-a2b2bd9df4b2",
   "metadata": {},
   "source": [
    "Organize the columns in a clear order:"
   ]
  },
  {
   "cell_type": "code",
   "execution_count": 14,
   "id": "4a5ff249-2643-4fb8-a5fd-6ec21c1919ac",
   "metadata": {},
   "outputs": [],
   "source": [
    "spread_data = spread_data[['quote_date', 'quote_hour', 'symbol', 'avg_spread']]"
   ]
  },
  {
   "cell_type": "code",
   "execution_count": 15,
   "id": "6b5c7004-4f49-4839-9b28-ec3b218d5c46",
   "metadata": {},
   "outputs": [
    {
     "data": {
      "text/html": [
       "<div>\n",
       "<style scoped>\n",
       "    .dataframe tbody tr th:only-of-type {\n",
       "        vertical-align: middle;\n",
       "    }\n",
       "\n",
       "    .dataframe tbody tr th {\n",
       "        vertical-align: top;\n",
       "    }\n",
       "\n",
       "    .dataframe thead th {\n",
       "        text-align: right;\n",
       "    }\n",
       "</style>\n",
       "<table border=\"1\" class=\"dataframe\">\n",
       "  <thead>\n",
       "    <tr style=\"text-align: right;\">\n",
       "      <th></th>\n",
       "      <th>quote_date</th>\n",
       "      <th>quote_hour</th>\n",
       "      <th>symbol</th>\n",
       "      <th>avg_spread</th>\n",
       "    </tr>\n",
       "  </thead>\n",
       "  <tbody>\n",
       "    <tr>\n",
       "      <th>0</th>\n",
       "      <td>2024-02-12</td>\n",
       "      <td>0</td>\n",
       "      <td>US30</td>\n",
       "      <td>4.800000</td>\n",
       "    </tr>\n",
       "    <tr>\n",
       "      <th>1</th>\n",
       "      <td>2024-02-12</td>\n",
       "      <td>1</td>\n",
       "      <td>US30</td>\n",
       "      <td>4.800000</td>\n",
       "    </tr>\n",
       "    <tr>\n",
       "      <th>2</th>\n",
       "      <td>2024-02-12</td>\n",
       "      <td>2</td>\n",
       "      <td>US30</td>\n",
       "      <td>4.800000</td>\n",
       "    </tr>\n",
       "    <tr>\n",
       "      <th>3</th>\n",
       "      <td>2024-02-12</td>\n",
       "      <td>3</td>\n",
       "      <td>US30</td>\n",
       "      <td>4.800000</td>\n",
       "    </tr>\n",
       "    <tr>\n",
       "      <th>4</th>\n",
       "      <td>2024-02-12</td>\n",
       "      <td>4</td>\n",
       "      <td>US30</td>\n",
       "      <td>4.800000</td>\n",
       "    </tr>\n",
       "    <tr>\n",
       "      <th>...</th>\n",
       "      <td>...</td>\n",
       "      <td>...</td>\n",
       "      <td>...</td>\n",
       "      <td>...</td>\n",
       "    </tr>\n",
       "    <tr>\n",
       "      <th>475</th>\n",
       "      <td>2024-02-23</td>\n",
       "      <td>19</td>\n",
       "      <td>USD/JPY</td>\n",
       "      <td>1.103833</td>\n",
       "    </tr>\n",
       "    <tr>\n",
       "      <th>476</th>\n",
       "      <td>2024-02-23</td>\n",
       "      <td>20</td>\n",
       "      <td>USD/JPY</td>\n",
       "      <td>1.330962</td>\n",
       "    </tr>\n",
       "    <tr>\n",
       "      <th>477</th>\n",
       "      <td>2024-02-23</td>\n",
       "      <td>21</td>\n",
       "      <td>USD/JPY</td>\n",
       "      <td>1.577383</td>\n",
       "    </tr>\n",
       "    <tr>\n",
       "      <th>478</th>\n",
       "      <td>2024-02-25</td>\n",
       "      <td>22</td>\n",
       "      <td>USD/JPY</td>\n",
       "      <td>7.413133</td>\n",
       "    </tr>\n",
       "    <tr>\n",
       "      <th>479</th>\n",
       "      <td>2024-02-25</td>\n",
       "      <td>23</td>\n",
       "      <td>USD/JPY</td>\n",
       "      <td>1.738235</td>\n",
       "    </tr>\n",
       "  </tbody>\n",
       "</table>\n",
       "<p>480 rows × 4 columns</p>\n",
       "</div>"
      ],
      "text/plain": [
       "    quote_date  quote_hour   symbol  avg_spread\n",
       "0   2024-02-12           0     US30    4.800000\n",
       "1   2024-02-12           1     US30    4.800000\n",
       "2   2024-02-12           2     US30    4.800000\n",
       "3   2024-02-12           3     US30    4.800000\n",
       "4   2024-02-12           4     US30    4.800000\n",
       "..         ...         ...      ...         ...\n",
       "475 2024-02-23          19  USD/JPY    1.103833\n",
       "476 2024-02-23          20  USD/JPY    1.330962\n",
       "477 2024-02-23          21  USD/JPY    1.577383\n",
       "478 2024-02-25          22  USD/JPY    7.413133\n",
       "479 2024-02-25          23  USD/JPY    1.738235\n",
       "\n",
       "[480 rows x 4 columns]"
      ]
     },
     "execution_count": 15,
     "metadata": {},
     "output_type": "execute_result"
    }
   ],
   "source": [
    "spread_data"
   ]
  },
  {
   "cell_type": "markdown",
   "id": "b34d4035-6119-4c6d-a3e8-e52712dca5c1",
   "metadata": {},
   "source": [
    "Let's confirm that each column in spread_data has the correct data type:"
   ]
  },
  {
   "cell_type": "code",
   "execution_count": 16,
   "id": "1d8a17e7-daf5-4d39-8f09-6092a68173ca",
   "metadata": {},
   "outputs": [
    {
     "data": {
      "text/plain": [
       "quote_date    datetime64[ns]\n",
       "quote_hour             int32\n",
       "symbol                object\n",
       "avg_spread           float64\n",
       "dtype: object"
      ]
     },
     "execution_count": 16,
     "metadata": {},
     "output_type": "execute_result"
    }
   ],
   "source": [
    "spread_data.dtypes"
   ]
  },
  {
   "cell_type": "code",
   "execution_count": 17,
   "id": "9e219ae9-a968-44cf-8657-564b760d3601",
   "metadata": {},
   "outputs": [
    {
     "data": {
      "text/plain": [
       "(Timestamp('2024-02-12 00:00:00'), Timestamp('2024-02-25 00:00:00'))"
      ]
     },
     "execution_count": 17,
     "metadata": {},
     "output_type": "execute_result"
    }
   ],
   "source": [
    "spread_data['quote_date'].min(), spread_data['quote_date'].max()"
   ]
  },
  {
   "cell_type": "markdown",
   "id": "2981c2d8-9d72-4bc7-9ba8-262577cf9b49",
   "metadata": {},
   "source": [
    "The dataset covers a time range from February 12, 2024 to February 25, 2024, which corresponds to data collected exclusively during __February 2024__. This information allows us to focus our analysis on a specific and relatively short period, making it easier to observe patterns, trends, and anomalies within this timeframe."
   ]
  },
  {
   "cell_type": "code",
   "execution_count": 18,
   "id": "753be26c-3c9c-416a-9779-88339698a922",
   "metadata": {},
   "outputs": [
    {
     "data": {
      "text/plain": [
       "array(['US30', 'USD/JPY'], dtype=object)"
      ]
     },
     "execution_count": 18,
     "metadata": {},
     "output_type": "execute_result"
    }
   ],
   "source": [
    "spread_data.symbol.unique()"
   ]
  },
  {
   "cell_type": "markdown",
   "id": "55dd0e76-2f81-43c6-a65d-11d8f4a2260f",
   "metadata": {},
   "source": [
    "In the dataset, we have two unique symbols: __US30__ and __USD/JPY__. This indicates that the data contains information for two different trading instruments: the US30 index (which is a major US stock market index) and the USD/JPY currency pair (representing the exchange rate between the US Dollar and the Japanese Yen).\n",
    "\n",
    "Next, we'll group the data by the symbol column and examine the statistical summary of the avg_spread for each instrument:"
   ]
  },
  {
   "cell_type": "code",
   "execution_count": 19,
   "id": "ec699a19-116f-4620-b8fd-40f72e0e2098",
   "metadata": {},
   "outputs": [
    {
     "data": {
      "text/html": [
       "<div>\n",
       "<style scoped>\n",
       "    .dataframe tbody tr th:only-of-type {\n",
       "        vertical-align: middle;\n",
       "    }\n",
       "\n",
       "    .dataframe tbody tr th {\n",
       "        vertical-align: top;\n",
       "    }\n",
       "\n",
       "    .dataframe thead th {\n",
       "        text-align: right;\n",
       "    }\n",
       "</style>\n",
       "<table border=\"1\" class=\"dataframe\">\n",
       "  <thead>\n",
       "    <tr style=\"text-align: right;\">\n",
       "      <th>symbol</th>\n",
       "      <th>US30</th>\n",
       "      <th>USD/JPY</th>\n",
       "    </tr>\n",
       "  </thead>\n",
       "  <tbody>\n",
       "    <tr>\n",
       "      <th>count</th>\n",
       "      <td>227.000000</td>\n",
       "      <td>253.000000</td>\n",
       "    </tr>\n",
       "    <tr>\n",
       "      <th>mean</th>\n",
       "      <td>3.757753</td>\n",
       "      <td>1.366240</td>\n",
       "    </tr>\n",
       "    <tr>\n",
       "      <th>std</th>\n",
       "      <td>1.023609</td>\n",
       "      <td>0.991857</td>\n",
       "    </tr>\n",
       "    <tr>\n",
       "      <th>min</th>\n",
       "      <td>2.300000</td>\n",
       "      <td>0.993543</td>\n",
       "    </tr>\n",
       "    <tr>\n",
       "      <th>25%</th>\n",
       "      <td>2.680000</td>\n",
       "      <td>1.120000</td>\n",
       "    </tr>\n",
       "    <tr>\n",
       "      <th>50%</th>\n",
       "      <td>3.780000</td>\n",
       "      <td>1.159056</td>\n",
       "    </tr>\n",
       "    <tr>\n",
       "      <th>75%</th>\n",
       "      <td>4.800000</td>\n",
       "      <td>1.190000</td>\n",
       "    </tr>\n",
       "    <tr>\n",
       "      <th>max</th>\n",
       "      <td>8.610000</td>\n",
       "      <td>9.770000</td>\n",
       "    </tr>\n",
       "  </tbody>\n",
       "</table>\n",
       "</div>"
      ],
      "text/plain": [
       "symbol        US30     USD/JPY\n",
       "count   227.000000  253.000000\n",
       "mean      3.757753    1.366240\n",
       "std       1.023609    0.991857\n",
       "min       2.300000    0.993543\n",
       "25%       2.680000    1.120000\n",
       "50%       3.780000    1.159056\n",
       "75%       4.800000    1.190000\n",
       "max       8.610000    9.770000"
      ]
     },
     "execution_count": 19,
     "metadata": {},
     "output_type": "execute_result"
    }
   ],
   "source": [
    "symbol_stats = spread_data.groupby('symbol')['avg_spread'].describe()\n",
    "symbol_stats.T"
   ]
  },
  {
   "cell_type": "markdown",
   "id": "e05e7d1f-ebf8-4938-b187-8636ed12fbd6",
   "metadata": {},
   "source": [
    "The dataset reveals that the average spread for US30 is approximately 3.76, with a standard deviation of 1.02, indicating moderate variability around the mean. The spread for US30 ranges from a minimum of 2.30 to a maximum of 8.61, highlighting substantial fluctuations. The spread's 25th percentile is 2.68, the 50th percentile (median) is 3.78, and the 75th percentile is 4.80. This suggests that 50% of the time, the spread lies within the range of 2.68 to 4.80.\n",
    "\n",
    "For USD/JPY, the mean spread is 1.37, which is notably lower than that of US30. The standard deviation is 0.99, implying that the spread for USD/JPY is more stable. The range for USD/JPY is from 0.99 to 9.77, but the bulk of the data (25th to 75th percentiles) is concentrated between 1.12 and 1.19.\n",
    "\n",
    "In conclusion, __USD/JPY__ is more stable with smaller fluctuations, while __US30__ has greater volatility, offering more potential for significant price changes. This greater volatility could lead to both higher profits and higher risks."
   ]
  },
  {
   "cell_type": "markdown",
   "id": "a324361c-b703-4481-a55b-d26aebf55ff5",
   "metadata": {},
   "source": [
    "## Looking at the Trend of Average Spread Over Time\n",
    "\n",
    "###  Trends in Average Spread by Date"
   ]
  },
  {
   "cell_type": "code",
   "execution_count": 20,
   "id": "7e2166d9-58f4-40c1-95b9-f12324088532",
   "metadata": {},
   "outputs": [
    {
     "data": {
      "image/png": "[encoded data removed]",
      "text/plain": [
       "<Figure size 720x432 with 1 Axes>"
      ]
     },
     "metadata": {
      "needs_background": "light"
     },
     "output_type": "display_data"
    }
   ],
   "source": [
    "daily_spread_by_symbol = spread_data.groupby(['quote_date', 'symbol'])['avg_spread'].mean().unstack()\n",
    "\n",
    "fig, ax = plt.subplots(figsize=(10, 6))\n",
    "daily_spread_by_symbol.plot(ax=ax, marker='o')  \n",
    "\n",
    "ax.set_title(\"Average Spread Over The Days for US30 and USD/JPY\")\n",
    "ax.set_xlabel(\"Date\")\n",
    "ax.set_ylabel(\"Average Spread\")\n",
    "\n",
    "plt.xticks(rotation=45)\n",
    "\n",
    "plt.legend(title=\"Symbol\")\n",
    "\n",
    "plt.tight_layout() \n",
    "plt.show()\n",
    "\n"
   ]
  },
  {
   "cell_type": "markdown",
   "id": "a2bb86a6-d229-413c-a500-9842dfdc2356",
   "metadata": {},
   "source": [
    "From the __16th__ onward, US30 and USD/JPY start increasing. The peak for both symbols appears to have occurred on the __18th__, after which the USD/JPY, drops sharply, and then returns to levels similar to those before the peak. The US30, decreases more gradually until around the 20th. After that, both begin to rise again starting from the __23rd__.\n"
   ]
  },
  {
   "cell_type": "code",
   "execution_count": 21,
   "id": "445db0b3-3c22-43af-9c01-9a042b61807b",
   "metadata": {},
   "outputs": [
    {
     "name": "stdout",
     "output_type": "stream",
     "text": [
      "2024-02-16 falls on Friday\n",
      "2024-02-18 falls on Sunday\n",
      "2024-02-19 falls on Monday\n",
      "2024-02-23 falls on Friday\n",
      "2024-02-25 falls on Sunday\n"
     ]
    }
   ],
   "source": [
    "dates_to_check = pd.to_datetime(['2024-02-16', '2024-02-18', '2024-02-19', '2024-02-23', '2024-02-25'])\n",
    "\n",
    "days_of_week = dates_to_check.day_name()\n",
    "\n",
    "for date, day in zip(dates_to_check, days_of_week):\n",
    "    print(f\"{date.strftime('%Y-%m-%d')} falls on {day}\")\n"
   ]
  },
  {
   "cell_type": "markdown",
   "id": "67c324c4-d8f6-409a-a00b-670275cad9bd",
   "metadata": {},
   "source": [
    "From the data, we can observe a potential trend: the spread values seem to start rising on Fridays and peak on Sundays, indicating that the __weekend__ may bring increased market volatility or fluctuations in the spread. This pattern is evident for both US30 and USD/JPY, where the highest spreads tend to occur on Sundays, with an increase beginning on Friday."
   ]
  },
  {
   "cell_type": "code",
   "execution_count": 22,
   "id": "57b5001e-381a-4b12-9fd6-d7e5355abae8",
   "metadata": {},
   "outputs": [
    {
     "data": {
      "text/html": [
       "<div>\n",
       "<style scoped>\n",
       "    .dataframe tbody tr th:only-of-type {\n",
       "        vertical-align: middle;\n",
       "    }\n",
       "\n",
       "    .dataframe tbody tr th {\n",
       "        vertical-align: top;\n",
       "    }\n",
       "\n",
       "    .dataframe thead th {\n",
       "        text-align: right;\n",
       "    }\n",
       "</style>\n",
       "<table border=\"1\" class=\"dataframe\">\n",
       "  <thead>\n",
       "    <tr style=\"text-align: right;\">\n",
       "      <th></th>\n",
       "      <th>quote_date</th>\n",
       "      <th>quote_hour</th>\n",
       "      <th>symbol</th>\n",
       "      <th>avg_spread</th>\n",
       "    </tr>\n",
       "  </thead>\n",
       "  <tbody>\n",
       "    <tr>\n",
       "      <th>133</th>\n",
       "      <td>2024-02-19</td>\n",
       "      <td>18</td>\n",
       "      <td>US30</td>\n",
       "      <td>8.61</td>\n",
       "    </tr>\n",
       "    <tr>\n",
       "      <th>358</th>\n",
       "      <td>2024-02-18</td>\n",
       "      <td>22</td>\n",
       "      <td>USD/JPY</td>\n",
       "      <td>9.77</td>\n",
       "    </tr>\n",
       "  </tbody>\n",
       "</table>\n",
       "</div>"
      ],
      "text/plain": [
       "    quote_date  quote_hour   symbol  avg_spread\n",
       "133 2024-02-19          18     US30        8.61\n",
       "358 2024-02-18          22  USD/JPY        9.77"
      ]
     },
     "execution_count": 22,
     "metadata": {},
     "output_type": "execute_result"
    }
   ],
   "source": [
    "max_spread_info = spread_data.loc[spread_data.groupby('symbol')['avg_spread'].idxmax()]\n",
    "\n",
    "max_spread_info"
   ]
  },
  {
   "cell_type": "markdown",
   "id": "e2a0fe28-4b9d-4901-8fd9-10b2d9aeb4d9",
   "metadata": {},
   "source": [
    "In fact, the peak for US30 occurred on February 19th, Monday at 18h, and the peak for USD/JPY occurred on February 18th, Sunday at 22h."
   ]
  },
  {
   "cell_type": "markdown",
   "id": "19904377-c076-40b8-80f4-7d1042b3e439",
   "metadata": {},
   "source": [
    "### Trends in Average Spread by Hour\n",
    "\n",
    "Let's explore the trends over the hours by aggregating the average spread for each hour. This will help us understand how the spread behaves throughout the day and how it varies between different symbols."
   ]
  },
  {
   "cell_type": "code",
   "execution_count": 23,
   "id": "d7a12696-379c-4579-966f-99f8348578c1",
   "metadata": {},
   "outputs": [
    {
     "data": {
      "image/png": "[encoded data removed]",
      "text/plain": [
       "<Figure size 720x432 with 1 Axes>"
      ]
     },
     "metadata": {
      "needs_background": "light"
     },
     "output_type": "display_data"
    }
   ],
   "source": [
    "us30_hourly_avg = spread_data[spread_data['symbol'] == 'US30'].groupby('quote_hour')['avg_spread'].mean()\n",
    "usdjpy_hourly_avg = spread_data[spread_data['symbol'] == 'USD/JPY'].groupby('quote_hour')['avg_spread'].mean()\n",
    "\n",
    "plt.figure(figsize=(10,6))\n",
    "\n",
    "plt.plot(np.array(us30_hourly_avg.index), np.array(us30_hourly_avg), label='US30', color='blue', marker='o')\n",
    "\n",
    "plt.plot(np.array(usdjpy_hourly_avg.index), np.array(usdjpy_hourly_avg), label='USD/JPY', color='red', marker='o')\n",
    "\n",
    "plt.title('Average Spread by Hour for US30 and USD/JPY')\n",
    "plt.xlabel('Hour of the Day')\n",
    "plt.ylabel('Average Spread')\n",
    "plt.xticks(range(0, 24))  \n",
    "plt.legend()\n",
    "\n",
    "plt.show()"
   ]
  },
  {
   "cell_type": "markdown",
   "id": "15e3f6ba-0dd7-45cd-a4ca-ae56987a8d0d",
   "metadata": {},
   "source": [
    "The chart shows the average spread (difference between bid and ask prices) for US30 and USD/JPY at different hours of the day.\n",
    "\n",
    "US30 (blue line): The spread remains stable around 5 during the early hours (0-6). It starts to decrease and stabilizes around 4 between 7 and 19 hours. Towards the end of the day (20-23 hours), there is a slight increase in the spread.\n",
    "\n",
    "USD/JPY (red line): The spread remains relatively stable around 1 for most of the day. However, at the end of the day (21-23 hours), there is a sharp increase in the spread, peaking above 6 before dropping again.\n",
    "\n",
    "Conclusion: For both symbols, the spread remains __stable during the day__, but there are __sharp changes__ toward __the end of the day__, particularly for USD/JPY."
   ]
  },
  {
   "cell_type": "code",
   "execution_count": 24,
   "id": "86699b60-85da-4876-bbde-0760367e62da",
   "metadata": {},
   "outputs": [],
   "source": [
    "def plot_hourly_average_spread(spread_data, date):\n",
    "    \"\"\"\n",
    "    Function to plot the hourly average spreads for US30 and USD/JPY on a specific date.\n",
    "\n",
    "    :param spread_data: DataFrame containing data with 'quote_date', 'quote_hour', 'symbol', 'avg_spread' values\n",
    "    :param date: The date for which the analysis should be performed, in the format 'YYYY-MM-DD'\n",
    "    \"\"\"\n",
    "    filtered_data = spread_data[spread_data['quote_date'] == date]\n",
    "\n",
    "    us30_hourly_avg = filtered_data[filtered_data['symbol'] == 'US30'].groupby('quote_hour')['avg_spread'].mean()\n",
    "    usdjpy_hourly_avg = filtered_data[filtered_data['symbol'] == 'USD/JPY'].groupby('quote_hour')['avg_spread'].mean()\n",
    "\n",
    "    plt.figure(figsize=(10,6))\n",
    "\n",
    "    plt.plot(np.array(us30_hourly_avg.index), np.array(us30_hourly_avg), label='US30', color='blue', marker='o')\n",
    "\n",
    "    plt.plot(np.array(usdjpy_hourly_avg.index), np.array(usdjpy_hourly_avg), label='USD/JPY', color='red', marker='o')\n",
    "\n",
    "    plt.title(f'Average Spread by Hour for US30 and USD/JPY on {date}')\n",
    "    plt.xlabel('Hour of the Day')\n",
    "    plt.ylabel('Average Spread')\n",
    "    plt.xticks(range(0, 24))  \n",
    "    plt.legend()\n",
    "\n",
    "    plt.show()\n"
   ]
  },
  {
   "cell_type": "code",
   "execution_count": 25,
   "id": "096fa08d-dbb6-4422-b727-a62aec89694b",
   "metadata": {},
   "outputs": [
    {
     "data": {
      "image/png": "[encoded data removed]",
      "text/plain": [
       "<Figure size 720x432 with 1 Axes>"
      ]
     },
     "metadata": {
      "needs_background": "light"
     },
     "output_type": "display_data"
    }
   ],
   "source": [
    "plot_hourly_average_spread(spread_data, '2024-02-18')"
   ]
  },
  {
   "cell_type": "code",
   "execution_count": 26,
   "id": "85da7f96-939c-4477-a2a2-0266515962fa",
   "metadata": {},
   "outputs": [
    {
     "data": {
      "image/png": "[encoded data removed]",
      "text/plain": [
       "<Figure size 720x432 with 1 Axes>"
      ]
     },
     "metadata": {
      "needs_background": "light"
     },
     "output_type": "display_data"
    }
   ],
   "source": [
    "plot_hourly_average_spread(spread_data, '2024-02-17')"
   ]
  },
  {
   "cell_type": "code",
   "execution_count": 27,
   "id": "11739b98-f548-46a7-a218-514b41d3c179",
   "metadata": {},
   "outputs": [
    {
     "data": {
      "image/png": "[encoded data removed]",
      "text/plain": [
       "<Figure size 720x432 with 1 Axes>"
      ]
     },
     "metadata": {
      "needs_background": "light"
     },
     "output_type": "display_data"
    }
   ],
   "source": [
    "plot_hourly_average_spread(spread_data, '2024-02-19')"
   ]
  },
  {
   "cell_type": "code",
   "execution_count": 28,
   "id": "56d1f16d-9e17-4d1b-94ca-fb734eae17ce",
   "metadata": {},
   "outputs": [
    {
     "data": {
      "text/html": [
       "<div>\n",
       "<style scoped>\n",
       "    .dataframe tbody tr th:only-of-type {\n",
       "        vertical-align: middle;\n",
       "    }\n",
       "\n",
       "    .dataframe tbody tr th {\n",
       "        vertical-align: top;\n",
       "    }\n",
       "\n",
       "    .dataframe thead th {\n",
       "        text-align: right;\n",
       "    }\n",
       "</style>\n",
       "<table border=\"1\" class=\"dataframe\">\n",
       "  <thead>\n",
       "    <tr style=\"text-align: right;\">\n",
       "      <th></th>\n",
       "      <th>quote_date</th>\n",
       "      <th>quote_hour</th>\n",
       "      <th>symbol</th>\n",
       "      <th>avg_spread</th>\n",
       "    </tr>\n",
       "  </thead>\n",
       "  <tbody>\n",
       "  </tbody>\n",
       "</table>\n",
       "</div>"
      ],
      "text/plain": [
       "Empty DataFrame\n",
       "Columns: [quote_date, quote_hour, symbol, avg_spread]\n",
       "Index: []"
      ]
     },
     "execution_count": 28,
     "metadata": {},
     "output_type": "execute_result"
    }
   ],
   "source": [
    "spread_data[spread_data['quote_date'] == '2024-02-17']"
   ]
  },
  {
   "cell_type": "code",
   "execution_count": 29,
   "id": "d2a98256-ede2-4a94-bd5f-5815aeb730df",
   "metadata": {},
   "outputs": [
    {
     "data": {
      "text/html": [
       "<div>\n",
       "<style scoped>\n",
       "    .dataframe tbody tr th:only-of-type {\n",
       "        vertical-align: middle;\n",
       "    }\n",
       "\n",
       "    .dataframe tbody tr th {\n",
       "        vertical-align: top;\n",
       "    }\n",
       "\n",
       "    .dataframe thead th {\n",
       "        text-align: right;\n",
       "    }\n",
       "</style>\n",
       "<table border=\"1\" class=\"dataframe\">\n",
       "  <thead>\n",
       "    <tr style=\"text-align: right;\">\n",
       "      <th></th>\n",
       "      <th>quote_date</th>\n",
       "      <th>quote_hour</th>\n",
       "      <th>symbol</th>\n",
       "      <th>avg_spread</th>\n",
       "    </tr>\n",
       "  </thead>\n",
       "  <tbody>\n",
       "    <tr>\n",
       "      <th>114</th>\n",
       "      <td>2024-02-18</td>\n",
       "      <td>23</td>\n",
       "      <td>US30</td>\n",
       "      <td>4.80</td>\n",
       "    </tr>\n",
       "    <tr>\n",
       "      <th>358</th>\n",
       "      <td>2024-02-18</td>\n",
       "      <td>22</td>\n",
       "      <td>USD/JPY</td>\n",
       "      <td>9.77</td>\n",
       "    </tr>\n",
       "    <tr>\n",
       "      <th>359</th>\n",
       "      <td>2024-02-18</td>\n",
       "      <td>23</td>\n",
       "      <td>USD/JPY</td>\n",
       "      <td>1.35</td>\n",
       "    </tr>\n",
       "  </tbody>\n",
       "</table>\n",
       "</div>"
      ],
      "text/plain": [
       "    quote_date  quote_hour   symbol  avg_spread\n",
       "114 2024-02-18          23     US30        4.80\n",
       "358 2024-02-18          22  USD/JPY        9.77\n",
       "359 2024-02-18          23  USD/JPY        1.35"
      ]
     },
     "execution_count": 29,
     "metadata": {},
     "output_type": "execute_result"
    }
   ],
   "source": [
    "spread_data[spread_data['quote_date'] == '2024-02-18']"
   ]
  },
  {
   "cell_type": "code",
   "execution_count": 30,
   "id": "5a8a2abc-4d4b-46be-94e3-ab09374499da",
   "metadata": {},
   "outputs": [
    {
     "data": {
      "text/html": [
       "<div>\n",
       "<style scoped>\n",
       "    .dataframe tbody tr th:only-of-type {\n",
       "        vertical-align: middle;\n",
       "    }\n",
       "\n",
       "    .dataframe tbody tr th {\n",
       "        vertical-align: top;\n",
       "    }\n",
       "\n",
       "    .dataframe thead th {\n",
       "        text-align: right;\n",
       "    }\n",
       "</style>\n",
       "<table border=\"1\" class=\"dataframe\">\n",
       "  <thead>\n",
       "    <tr style=\"text-align: right;\">\n",
       "      <th></th>\n",
       "      <th>quote_date</th>\n",
       "      <th>quote_hour</th>\n",
       "      <th>symbol</th>\n",
       "      <th>avg_spread</th>\n",
       "    </tr>\n",
       "  </thead>\n",
       "  <tbody>\n",
       "    <tr>\n",
       "      <th>115</th>\n",
       "      <td>2024-02-19</td>\n",
       "      <td>0</td>\n",
       "      <td>US30</td>\n",
       "      <td>4.80</td>\n",
       "    </tr>\n",
       "    <tr>\n",
       "      <th>116</th>\n",
       "      <td>2024-02-19</td>\n",
       "      <td>1</td>\n",
       "      <td>US30</td>\n",
       "      <td>4.80</td>\n",
       "    </tr>\n",
       "    <tr>\n",
       "      <th>117</th>\n",
       "      <td>2024-02-19</td>\n",
       "      <td>2</td>\n",
       "      <td>US30</td>\n",
       "      <td>4.80</td>\n",
       "    </tr>\n",
       "    <tr>\n",
       "      <th>118</th>\n",
       "      <td>2024-02-19</td>\n",
       "      <td>3</td>\n",
       "      <td>US30</td>\n",
       "      <td>4.80</td>\n",
       "    </tr>\n",
       "    <tr>\n",
       "      <th>119</th>\n",
       "      <td>2024-02-19</td>\n",
       "      <td>4</td>\n",
       "      <td>US30</td>\n",
       "      <td>4.80</td>\n",
       "    </tr>\n",
       "    <tr>\n",
       "      <th>120</th>\n",
       "      <td>2024-02-19</td>\n",
       "      <td>5</td>\n",
       "      <td>US30</td>\n",
       "      <td>4.80</td>\n",
       "    </tr>\n",
       "    <tr>\n",
       "      <th>121</th>\n",
       "      <td>2024-02-19</td>\n",
       "      <td>6</td>\n",
       "      <td>US30</td>\n",
       "      <td>4.80</td>\n",
       "    </tr>\n",
       "    <tr>\n",
       "      <th>122</th>\n",
       "      <td>2024-02-19</td>\n",
       "      <td>7</td>\n",
       "      <td>US30</td>\n",
       "      <td>3.78</td>\n",
       "    </tr>\n",
       "    <tr>\n",
       "      <th>123</th>\n",
       "      <td>2024-02-19</td>\n",
       "      <td>8</td>\n",
       "      <td>US30</td>\n",
       "      <td>3.78</td>\n",
       "    </tr>\n",
       "    <tr>\n",
       "      <th>124</th>\n",
       "      <td>2024-02-19</td>\n",
       "      <td>9</td>\n",
       "      <td>US30</td>\n",
       "      <td>3.78</td>\n",
       "    </tr>\n",
       "    <tr>\n",
       "      <th>125</th>\n",
       "      <td>2024-02-19</td>\n",
       "      <td>10</td>\n",
       "      <td>US30</td>\n",
       "      <td>3.78</td>\n",
       "    </tr>\n",
       "    <tr>\n",
       "      <th>126</th>\n",
       "      <td>2024-02-19</td>\n",
       "      <td>11</td>\n",
       "      <td>US30</td>\n",
       "      <td>3.78</td>\n",
       "    </tr>\n",
       "    <tr>\n",
       "      <th>127</th>\n",
       "      <td>2024-02-19</td>\n",
       "      <td>12</td>\n",
       "      <td>US30</td>\n",
       "      <td>3.78</td>\n",
       "    </tr>\n",
       "    <tr>\n",
       "      <th>128</th>\n",
       "      <td>2024-02-19</td>\n",
       "      <td>13</td>\n",
       "      <td>US30</td>\n",
       "      <td>3.78</td>\n",
       "    </tr>\n",
       "    <tr>\n",
       "      <th>129</th>\n",
       "      <td>2024-02-19</td>\n",
       "      <td>14</td>\n",
       "      <td>US30</td>\n",
       "      <td>3.04</td>\n",
       "    </tr>\n",
       "    <tr>\n",
       "      <th>130</th>\n",
       "      <td>2024-02-19</td>\n",
       "      <td>15</td>\n",
       "      <td>US30</td>\n",
       "      <td>2.30</td>\n",
       "    </tr>\n",
       "    <tr>\n",
       "      <th>131</th>\n",
       "      <td>2024-02-19</td>\n",
       "      <td>16</td>\n",
       "      <td>US30</td>\n",
       "      <td>2.30</td>\n",
       "    </tr>\n",
       "    <tr>\n",
       "      <th>132</th>\n",
       "      <td>2024-02-19</td>\n",
       "      <td>17</td>\n",
       "      <td>US30</td>\n",
       "      <td>2.30</td>\n",
       "    </tr>\n",
       "    <tr>\n",
       "      <th>133</th>\n",
       "      <td>2024-02-19</td>\n",
       "      <td>18</td>\n",
       "      <td>US30</td>\n",
       "      <td>8.61</td>\n",
       "    </tr>\n",
       "    <tr>\n",
       "      <th>134</th>\n",
       "      <td>2024-02-19</td>\n",
       "      <td>23</td>\n",
       "      <td>US30</td>\n",
       "      <td>4.80</td>\n",
       "    </tr>\n",
       "    <tr>\n",
       "      <th>360</th>\n",
       "      <td>2024-02-19</td>\n",
       "      <td>0</td>\n",
       "      <td>USD/JPY</td>\n",
       "      <td>1.25</td>\n",
       "    </tr>\n",
       "    <tr>\n",
       "      <th>361</th>\n",
       "      <td>2024-02-19</td>\n",
       "      <td>1</td>\n",
       "      <td>USD/JPY</td>\n",
       "      <td>1.12</td>\n",
       "    </tr>\n",
       "    <tr>\n",
       "      <th>362</th>\n",
       "      <td>2024-02-19</td>\n",
       "      <td>2</td>\n",
       "      <td>USD/JPY</td>\n",
       "      <td>1.18</td>\n",
       "    </tr>\n",
       "    <tr>\n",
       "      <th>363</th>\n",
       "      <td>2024-02-19</td>\n",
       "      <td>3</td>\n",
       "      <td>USD/JPY</td>\n",
       "      <td>1.18</td>\n",
       "    </tr>\n",
       "    <tr>\n",
       "      <th>364</th>\n",
       "      <td>2024-02-19</td>\n",
       "      <td>4</td>\n",
       "      <td>USD/JPY</td>\n",
       "      <td>1.16</td>\n",
       "    </tr>\n",
       "    <tr>\n",
       "      <th>365</th>\n",
       "      <td>2024-02-19</td>\n",
       "      <td>5</td>\n",
       "      <td>USD/JPY</td>\n",
       "      <td>1.19</td>\n",
       "    </tr>\n",
       "    <tr>\n",
       "      <th>366</th>\n",
       "      <td>2024-02-19</td>\n",
       "      <td>6</td>\n",
       "      <td>USD/JPY</td>\n",
       "      <td>1.14</td>\n",
       "    </tr>\n",
       "    <tr>\n",
       "      <th>367</th>\n",
       "      <td>2024-02-19</td>\n",
       "      <td>7</td>\n",
       "      <td>USD/JPY</td>\n",
       "      <td>1.19</td>\n",
       "    </tr>\n",
       "    <tr>\n",
       "      <th>368</th>\n",
       "      <td>2024-02-19</td>\n",
       "      <td>8</td>\n",
       "      <td>USD/JPY</td>\n",
       "      <td>1.16</td>\n",
       "    </tr>\n",
       "    <tr>\n",
       "      <th>369</th>\n",
       "      <td>2024-02-19</td>\n",
       "      <td>9</td>\n",
       "      <td>USD/JPY</td>\n",
       "      <td>1.15</td>\n",
       "    </tr>\n",
       "    <tr>\n",
       "      <th>370</th>\n",
       "      <td>2024-02-19</td>\n",
       "      <td>10</td>\n",
       "      <td>USD/JPY</td>\n",
       "      <td>1.09</td>\n",
       "    </tr>\n",
       "    <tr>\n",
       "      <th>371</th>\n",
       "      <td>2024-02-19</td>\n",
       "      <td>11</td>\n",
       "      <td>USD/JPY</td>\n",
       "      <td>1.15</td>\n",
       "    </tr>\n",
       "    <tr>\n",
       "      <th>372</th>\n",
       "      <td>2024-02-19</td>\n",
       "      <td>12</td>\n",
       "      <td>USD/JPY</td>\n",
       "      <td>1.12</td>\n",
       "    </tr>\n",
       "    <tr>\n",
       "      <th>373</th>\n",
       "      <td>2024-02-19</td>\n",
       "      <td>13</td>\n",
       "      <td>USD/JPY</td>\n",
       "      <td>1.17</td>\n",
       "    </tr>\n",
       "    <tr>\n",
       "      <th>374</th>\n",
       "      <td>2024-02-19</td>\n",
       "      <td>14</td>\n",
       "      <td>USD/JPY</td>\n",
       "      <td>1.15</td>\n",
       "    </tr>\n",
       "    <tr>\n",
       "      <th>375</th>\n",
       "      <td>2024-02-19</td>\n",
       "      <td>15</td>\n",
       "      <td>USD/JPY</td>\n",
       "      <td>1.13</td>\n",
       "    </tr>\n",
       "    <tr>\n",
       "      <th>376</th>\n",
       "      <td>2024-02-19</td>\n",
       "      <td>16</td>\n",
       "      <td>USD/JPY</td>\n",
       "      <td>1.14</td>\n",
       "    </tr>\n",
       "    <tr>\n",
       "      <th>377</th>\n",
       "      <td>2024-02-19</td>\n",
       "      <td>17</td>\n",
       "      <td>USD/JPY</td>\n",
       "      <td>1.14</td>\n",
       "    </tr>\n",
       "    <tr>\n",
       "      <th>378</th>\n",
       "      <td>2024-02-19</td>\n",
       "      <td>18</td>\n",
       "      <td>USD/JPY</td>\n",
       "      <td>1.32</td>\n",
       "    </tr>\n",
       "    <tr>\n",
       "      <th>379</th>\n",
       "      <td>2024-02-19</td>\n",
       "      <td>19</td>\n",
       "      <td>USD/JPY</td>\n",
       "      <td>1.33</td>\n",
       "    </tr>\n",
       "    <tr>\n",
       "      <th>380</th>\n",
       "      <td>2024-02-19</td>\n",
       "      <td>20</td>\n",
       "      <td>USD/JPY</td>\n",
       "      <td>1.36</td>\n",
       "    </tr>\n",
       "    <tr>\n",
       "      <th>381</th>\n",
       "      <td>2024-02-19</td>\n",
       "      <td>21</td>\n",
       "      <td>USD/JPY</td>\n",
       "      <td>1.59</td>\n",
       "    </tr>\n",
       "    <tr>\n",
       "      <th>382</th>\n",
       "      <td>2024-02-19</td>\n",
       "      <td>22</td>\n",
       "      <td>USD/JPY</td>\n",
       "      <td>5.40</td>\n",
       "    </tr>\n",
       "    <tr>\n",
       "      <th>383</th>\n",
       "      <td>2024-02-19</td>\n",
       "      <td>23</td>\n",
       "      <td>USD/JPY</td>\n",
       "      <td>1.46</td>\n",
       "    </tr>\n",
       "  </tbody>\n",
       "</table>\n",
       "</div>"
      ],
      "text/plain": [
       "    quote_date  quote_hour   symbol  avg_spread\n",
       "115 2024-02-19           0     US30        4.80\n",
       "116 2024-02-19           1     US30        4.80\n",
       "117 2024-02-19           2     US30        4.80\n",
       "118 2024-02-19           3     US30        4.80\n",
       "119 2024-02-19           4     US30        4.80\n",
       "120 2024-02-19           5     US30        4.80\n",
       "121 2024-02-19           6     US30        4.80\n",
       "122 2024-02-19           7     US30        3.78\n",
       "123 2024-02-19           8     US30        3.78\n",
       "124 2024-02-19           9     US30        3.78\n",
       "125 2024-02-19          10     US30        3.78\n",
       "126 2024-02-19          11     US30        3.78\n",
       "127 2024-02-19          12     US30        3.78\n",
       "128 2024-02-19          13     US30        3.78\n",
       "129 2024-02-19          14     US30        3.04\n",
       "130 2024-02-19          15     US30        2.30\n",
       "131 2024-02-19          16     US30        2.30\n",
       "132 2024-02-19          17     US30        2.30\n",
       "133 2024-02-19          18     US30        8.61\n",
       "134 2024-02-19          23     US30        4.80\n",
       "360 2024-02-19           0  USD/JPY        1.25\n",
       "361 2024-02-19           1  USD/JPY        1.12\n",
       "362 2024-02-19           2  USD/JPY        1.18\n",
       "363 2024-02-19           3  USD/JPY        1.18\n",
       "364 2024-02-19           4  USD/JPY        1.16\n",
       "365 2024-02-19           5  USD/JPY        1.19\n",
       "366 2024-02-19           6  USD/JPY        1.14\n",
       "367 2024-02-19           7  USD/JPY        1.19\n",
       "368 2024-02-19           8  USD/JPY        1.16\n",
       "369 2024-02-19           9  USD/JPY        1.15\n",
       "370 2024-02-19          10  USD/JPY        1.09\n",
       "371 2024-02-19          11  USD/JPY        1.15\n",
       "372 2024-02-19          12  USD/JPY        1.12\n",
       "373 2024-02-19          13  USD/JPY        1.17\n",
       "374 2024-02-19          14  USD/JPY        1.15\n",
       "375 2024-02-19          15  USD/JPY        1.13\n",
       "376 2024-02-19          16  USD/JPY        1.14\n",
       "377 2024-02-19          17  USD/JPY        1.14\n",
       "378 2024-02-19          18  USD/JPY        1.32\n",
       "379 2024-02-19          19  USD/JPY        1.33\n",
       "380 2024-02-19          20  USD/JPY        1.36\n",
       "381 2024-02-19          21  USD/JPY        1.59\n",
       "382 2024-02-19          22  USD/JPY        5.40\n",
       "383 2024-02-19          23  USD/JPY        1.46"
      ]
     },
     "execution_count": 30,
     "metadata": {},
     "output_type": "execute_result"
    }
   ],
   "source": [
    "spread_data[spread_data['quote_date'] == '2024-02-19']"
   ]
  },
  {
   "cell_type": "markdown",
   "id": "8e7e6b77-326f-42fc-92e1-33977ee794e3",
   "metadata": {},
   "source": [
    "In some days, there are no data records, such as on the 17th of February, while on the 18th, there are only 3 records. In contrast, other days have complete data entries for every hour."
   ]
  },
  {
   "cell_type": "code",
   "execution_count": null,
   "id": "b78f96b4-571b-4aa4-9f67-f02a799c9442",
   "metadata": {},
   "outputs": [],
   "source": []
  },
  {
   "cell_type": "code",
   "execution_count": 31,
   "id": "50c86660-1e33-4ea8-85fa-f341de383df5",
   "metadata": {},
   "outputs": [
    {
     "data": {
      "image/png": "[encoded data removed]",
      "text/plain": [
       "<Figure size 720x432 with 1 Axes>"
      ]
     },
     "metadata": {
      "needs_background": "light"
     },
     "output_type": "display_data"
    }
   ],
   "source": [
    "date_range = pd.date_range(start='2024-02-12', end='2024-02-25', freq='D')\n",
    "\n",
    "hours = range(24)\n",
    "\n",
    "all_combinations = pd.DataFrame(\n",
    "    [(date, hour) for date in date_range for hour in hours],\n",
    "    columns=['quote_date', 'quote_hour']\n",
    ")\n",
    "\n",
    "merged_data = pd.merge(all_combinations, spread_data[['quote_date', 'quote_hour']], \n",
    "                       on=['quote_date', 'quote_hour'], how='left', indicator=True)\n",
    "\n",
    "missing_data = merged_data[merged_data['_merge'] == 'left_only']\n",
    "\n",
    "missing_counts = missing_data.groupby('quote_date').size()\n",
    "\n",
    "plt.figure(figsize=(10, 6))\n",
    "plt.bar(missing_counts.index, missing_counts.values, color='red')\n",
    "plt.title('Missing Hourly Data per Day')\n",
    "plt.xlabel('Date')\n",
    "plt.ylabel('Missing Hour Count')\n",
    "plt.xticks(rotation=45)\n",
    "plt.show()\n"
   ]
  },
  {
   "cell_type": "markdown",
   "id": "a0ac11e2-8253-4ac2-be50-8b0705bbfde7",
   "metadata": {},
   "source": [
    "By merging the full list of expected date-hour combinations (all_combinations) with our original data (spread_data), we can easily detect and visualize missing hours or days. "
   ]
  },
  {
   "cell_type": "markdown",
   "id": "4da6e52e-2be0-4810-8894-648a7550089f",
   "metadata": {},
   "source": [
    "### Correlation Between Symbols (US30 vs. USD/JPY)"
   ]
  },
  {
   "cell_type": "code",
   "execution_count": 32,
   "id": "b5dd76cb-d482-4cbc-8141-e2d7056fbb2b",
   "metadata": {},
   "outputs": [
    {
     "name": "stdout",
     "output_type": "stream",
     "text": [
      "Pearson correlation between US30 and USD/JPY spread: 0.22141289284771493\n"
     ]
    }
   ],
   "source": [
    "merged_data = pd.merge(us30_hourly_avg, usdjpy_hourly_avg, left_index=True, right_index=True, suffixes=('_US30', '_USDJPY'))\n",
    "\n",
    "correlation = merged_data.corr().iloc[0, 1]\n",
    "print(f\"Pearson correlation between US30 and USD/JPY spread: {correlation}\")\n"
   ]
  },
  {
   "cell_type": "markdown",
   "id": "fc86b53e-d41a-403a-ba7f-9dc7e15e844e",
   "metadata": {},
   "source": [
    "Correlation between the spreads of US30 and USD/JPY is approximately __0.22__. This indicates a weak positive linear relationship between the two symbols' spreads. As a result, while there is a slight tendency for the spreads to move in the same direction, the relationship is not strong enough to suggest that the changes in one spread significantly influence the other. "
   ]
  },
  {
   "cell_type": "markdown",
   "id": "cf381288-5ed4-4b2d-9caa-04697252300f",
   "metadata": {},
   "source": [
    "### Volatility Analysis for US30 and USD/JPY"
   ]
  },
  {
   "cell_type": "code",
   "execution_count": 33,
   "id": "772a0440-a29b-4157-b753-119c51352fcc",
   "metadata": {},
   "outputs": [
    {
     "name": "stdout",
     "output_type": "stream",
     "text": [
      "Volatility for US30: 24.51287285195712\n",
      "Volatility for USD/JPY: 65.50797057231895\n"
     ]
    }
   ],
   "source": [
    "spread_data['return'] = spread_data.groupby('symbol')['avg_spread'].pct_change() * 100\n",
    "\n",
    "# Calculate volatility (standard deviation of returns) for each symbol\n",
    "us30_volatility = spread_data[spread_data['symbol'] == 'US30']['return'].std()\n",
    "usdjpy_volatility = spread_data[spread_data['symbol'] == 'USD/JPY']['return'].std()\n",
    "\n",
    "print(f\"Volatility for US30: {us30_volatility}\")\n",
    "print(f\"Volatility for USD/JPY: {usdjpy_volatility}\")"
   ]
  },
  {
   "cell_type": "markdown",
   "id": "67f19de1-e78e-478b-82b0-1a3112b25bbd",
   "metadata": {},
   "source": [
    "__US30 Volatility: 24.51%__\n",
    "\n",
    "This means that the daily percentage change in the average spread for the US30 index fluctuates within a range of ±24.51% around its mean, indicating a relatively moderate level of variability.\n",
    "\n",
    "\n",
    "__USD/JPY Volatility: 65.51%__\n",
    "\n",
    "The volatility for the USD/JPY currency pair is much higher, with the average spread fluctuating by ±65.51% around its mean. This suggests that the USD/JPY pair has more significant daily fluctuations compared to the US30 index, which may reflect higher market uncertainty or external factors influencing the currency pair.\n",
    "\n",
    "__Interpretation__: <br/>\n",
    "The US30 (a major stock index) shows moderate volatility, which is typical for stock indices that tend to experience more stable price movements in comparison to currencies. <br/>\n",
    "The USD/JPY pair, being a forex instrument, displays higher volatility, which is common in currency markets, especially with significant fluctuations in exchange rates, influenced by various economic and geopolitical factors."
   ]
  },
  {
   "cell_type": "markdown",
   "id": "b4916724-5975-4a02-b7ec-8b43d2cf6b12",
   "metadata": {},
   "source": [
    "Let's calculate the __rolling standard deviation__ for the percentage changes of each instrument using a __window of 5 hours__. This helps understand how the volatility fluctuates over time."
   ]
  },
  {
   "cell_type": "code",
   "execution_count": 34,
   "id": "7db67fd1-4f29-42d4-81ef-ca8bb2e67e6c",
   "metadata": {},
   "outputs": [
    {
     "data": {
      "image/png": "[encoded data removed]",
      "text/plain": [
       "<Figure size 720x432 with 1 Axes>"
      ]
     },
     "metadata": {
      "needs_background": "light"
     },
     "output_type": "display_data"
    }
   ],
   "source": [
    "# Calculate the returns (percentage change) for both symbols\n",
    "spread_data['us30_return'] = spread_data[spread_data['symbol'] == 'US30']['avg_spread'].pct_change() * 100\n",
    "spread_data['usdjpy_return'] = spread_data[spread_data['symbol'] == 'USD/JPY']['avg_spread'].pct_change() * 100\n",
    "\n",
    "# Calculate rolling volatility for a specific window (e.g., 5 hours)\n",
    "spread_data['rolling_volatility_us30'] = spread_data['us30_return'].rolling(window=5).std()\n",
    "spread_data['rolling_volatility_usdjpy'] = spread_data['usdjpy_return'].rolling(window=5).std()\n",
    "\n",
    "# Calculate rolling mean for a specific window (e.g., 5 hours)\n",
    "spread_data['rolling_mean_us30'] = spread_data['us30_return'].rolling(window=5).mean()\n",
    "spread_data['rolling_mean_usdjpy'] = spread_data['usdjpy_return'].rolling(window=5).mean()\n",
    "\n",
    "# Plot the rolling volatility and rolling mean\n",
    "plt.figure(figsize=(10, 6))\n",
    "\n",
    "# Plot for US30 volatility and rolling mean\n",
    "plt.plot(spread_data['rolling_volatility_us30'], label='US30 Volatility', color='blue')\n",
    "plt.plot(spread_data['rolling_mean_us30'], label='US30 Rolling Mean', color='lightblue', linestyle='--')\n",
    "\n",
    "plt.plot(spread_data['rolling_volatility_usdjpy'], label='USD/JPY Volatility', color='red')\n",
    "plt.plot(spread_data['rolling_mean_usdjpy'], label='USD/JPY Rolling Mean', color='lightcoral', linestyle='--')\n",
    "\n",
    "plt.title('Rolling Volatility and Mean for US30 and USD/JPY')\n",
    "plt.xlabel('Time')\n",
    "plt.ylabel('Volatility / Mean')\n",
    "plt.legend()\n",
    "plt.grid(True)\n",
    "\n",
    "plt.show()\n"
   ]
  },
  {
   "cell_type": "markdown",
   "id": "813c64c0-1764-4a05-8af2-95eadc69048e",
   "metadata": {},
   "source": [
    "Based on the chart, both US30 and USD/JPY exhibit periods of high volatility, indicating significant price fluctuations over short timeframes. These fluctuations may be attributed to various factors such as news events, economic indicators, or broader market sentiment. Additionally, the average values of both instruments show changes over time, suggesting shifting overall price trends."
   ]
  },
  {
   "cell_type": "markdown",
   "id": "fe9edd4e-283a-4a4a-892e-4e2a1ad4f26c",
   "metadata": {},
   "source": [
    "### Identifying spikes in the spread (e.g., 2 standard deviations above the mean)"
   ]
  },
  {
   "cell_type": "code",
   "execution_count": 35,
   "id": "cb1440a1-1a64-4ca9-9a0b-d20aaa6c372f",
   "metadata": {},
   "outputs": [
    {
     "data": {
      "image/png": "[encoded data removed]",
      "text/plain": [
       "<Figure size 720x432 with 1 Axes>"
      ]
     },
     "metadata": {
      "needs_background": "light"
     },
     "output_type": "display_data"
    }
   ],
   "source": [
    "spread_mean = spread_data['avg_spread'].mean()\n",
    "spread_std = spread_data['avg_spread'].std()\n",
    "threshold = spread_mean + 2 * spread_std\n",
    "\n",
    "spikes = spread_data[spread_data['avg_spread'] > threshold]\n",
    "\n",
    "plt.figure(figsize=(10, 6))\n",
    "plt.scatter(spikes['quote_date'], spikes['avg_spread'], color='red')\n",
    "plt.title(\"Spike Detection in Spread\")\n",
    "plt.xlabel(\"Date\")\n",
    "plt.ylabel(\"Average Spread\")\n",
    "\n",
    "plt.xticks(rotation=45)\n",
    "plt.tight_layout()\n",
    "\n",
    "plt.show()\n"
   ]
  },
  {
   "cell_type": "code",
   "execution_count": 39,
   "id": "b72e4c89-2dc5-413a-91c8-4f48c5d7f96e",
   "metadata": {},
   "outputs": [
    {
     "name": "stdout",
     "output_type": "stream",
     "text": [
      "Min avg_spread for US30: 2.3\n",
      "Min avg_spread for USD/JPY: 0.9935426\n",
      "\n",
      "Mean avg_spread for US30: 3.7577533039647575\n",
      "Mean avg_spread for USD/JPY: 1.3662400608320158\n",
      "\n",
      "Max avg_spread for US30: 8.61\n",
      "Max avg_spread for USD/JPY: 9.77\n"
     ]
    }
   ],
   "source": [
    "us30_mean_spread = spread_data[spread_data[\"symbol\"] == \"US30\"][\"avg_spread\"]\n",
    "\n",
    "usd_jpy_symbols_mean_spread = spread_data[spread_data[\"symbol\"] == \"USD/JPY\"][\"avg_spread\"]\n",
    "\n",
    "\n",
    "print(f\"Min avg_spread for US30: {us30_mean_spread.min()}\")\n",
    "print(f\"Min avg_spread for USD/JPY: {usd_jpy_symbols_mean_spread.min()}\")\n",
    "print()\n",
    "print(f\"Mean avg_spread for US30: {us30_mean_spread.mean()}\")\n",
    "print(f\"Mean avg_spread for USD/JPY: {usd_jpy_symbols_mean_spread.mean()}\")\n",
    "print()\n",
    "print(f\"Max avg_spread for US30: {us30_mean_spread.max()}\")\n",
    "print(f\"Max avg_spread for USD/JPY: {usd_jpy_symbols_mean_spread.max()}\")\n"
   ]
  },
  {
   "cell_type": "code",
   "execution_count": 37,
   "id": "35e2d063-041b-47e9-9fc3-9e0ec9099d25",
   "metadata": {},
   "outputs": [
    {
     "data": {
      "text/plain": [
       "5.804970946051498"
      ]
     },
     "execution_count": 37,
     "metadata": {},
     "output_type": "execute_result"
    }
   ],
   "source": [
    "us30_mean_spread.mean() + 2 * us30_mean_spread.std()"
   ]
  },
  {
   "cell_type": "code",
   "execution_count": 40,
   "id": "2940bd8f-332e-4e0a-a4db-b5aa9be99fd0",
   "metadata": {},
   "outputs": [
    {
     "data": {
      "text/plain": [
       "1.7105356618780165"
      ]
     },
     "execution_count": 40,
     "metadata": {},
     "output_type": "execute_result"
    }
   ],
   "source": [
    "us30_mean_spread.mean() - 2 * us30_mean_spread.std()"
   ]
  },
  {
   "cell_type": "markdown",
   "id": "05c8ec23-e8f4-416d-b367-a5a716d89d91",
   "metadata": {},
   "source": [
    "#### To monitor the spreads effectively, I propose the following alert mechanisms:\n",
    "\n",
    "Dynamic thresholds for US30 and USD/JPY:\n",
    "\n",
    "US30:\n",
    "\n",
    "Alert if spread exceeds: `us30_mean_spread.mean() + 2 * us30_mean_spread.std()` <br/>\n",
    "Alert if spread falls below: `us30_mean_spread.mean() - 2 * us30_mean_spread.std()`\n",
    "\n",
    "USD/JPY:\n",
    "\n",
    "Alert if spread exceeds: `usd_jpy_symbols_mean_spread.mean() + 2 * usd_jpy_symbols_mean_spread.std()`\n",
    "Alert if spread falls below: `usd_jpy_symbols_mean_spread.mean() - 2 * usd_jpy_symbols_mean_spread.std()`\n",
    "\n",
    "Additional Considerations:\n",
    "\n",
    "Visualizations: Plotting the average spread with the thresholds can help you visualize the alert zones. <br/>\n",
    "Backtesting: You can backtest your alert system on historical data to see how it would have performed. <br/>\n",
    "Monitoring: Continuously monitor the spread and trigger alerts when the thresholds are breached."
   ]
  },
  {
   "cell_type": "markdown",
   "id": "2d98557e-dc21-48e3-95bf-ae9ce7e55a14",
   "metadata": {},
   "source": [
    "## Summary and Key Findings\n",
    "\n",
    "In conclusion, the dataset highlights that USD/JPY exhibits a more stable spread with smaller fluctuations compared to US30. While US30 demonstrates higher volatility, this can present greater opportunities for profits, albeit with increased risks. The spread trends also indicate that volatility tends to increase toward the end of the week, particularly on Sundays, with notable peak values observed during these times. These insights can inform trading strategies and decision-making, depending on the trader's risk tolerance and trading goals. Traders who prioritize stability may prefer trading USD/JPY due to its consistent spread, while those seeking higher potential returns, along with the corresponding risk, might consider US30. Additionally, the increased volatility observed towards the end of the week suggests that strategic timing could be crucial for maximizing opportunities or minimizing risks."
   ]
  }
 ],
 "metadata": {
  "kernelspec": {
   "display_name": "Python 3 (ipykernel)",
   "language": "python",
   "name": "python3"
  },
  "language_info": {
   "codemirror_mode": {
    "name": "ipython",
    "version": 3
   },
   "file_extension": ".py",
   "mimetype": "text/x-python",
   "name": "python",
   "nbconvert_exporter": "python",
   "pygments_lexer": "ipython3",
   "version": "3.9.12"
  }
 },
 "nbformat": 4,
 "nbformat_minor": 5
}
